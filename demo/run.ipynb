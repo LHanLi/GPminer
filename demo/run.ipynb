{
 "cells": [
  {
   "cell_type": "code",
   "execution_count": 1,
   "metadata": {},
   "outputs": [],
   "source": [
    "import pandas as pd\n",
    "import numpy as np\n",
    "from itertools import combinations\n",
    "from random import choice, sample\n",
    "from joblib import Parallel, delayed\n",
    "import GPminer as GPm\n",
    "import FreeBack as FB\n",
    "import time, datetime, os, re, shutil"
   ]
  },
  {
   "cell_type": "markdown",
   "metadata": {},
   "source": [
    "# 超参数与数据"
   ]
  },
  {
   "cell_type": "code",
   "execution_count": 2,
   "metadata": {},
   "outputs": [],
   "source": [
    "###### 遗传算法参数 #####\n",
    "max_g = 500 # 最大进化代数，操作此代数结束进化\n",
    "tolerance_g = 20 # 最大允许适应度不提升代数，适应多连续不提升超过此代数结束进化\n",
    "population_size = 10 # 种群规模\n",
    "evolution_ratio = 0.5 # 每一代选择比例\n",
    "prob_dict = {} # 全部变异算子等概率运行\n",
    "#prob_dict = {'mutation_exp_dw':0.3, 'mutation_exp_replace':0.3, 'mutation_exp_and':0.3,\\\n",
    "#             'cross_exp_exchange':0.1}  # 各种变异、联会发生概率\n",
    "select_alg = 'tournament' # 子代选择方法 截断 cut  锦标赛 tournament\n",
    "fitfactor = 'excess_sharpe' # 适应度目标\n",
    "n_core = 10\n",
    "\n",
    "##### 策略超参数 #####\n",
    "start = '2024-1-1'\n",
    "end = '2024-9-30'  # 起止时间\n",
    "hold_num = 5  # 持仓数量\n",
    "price = 'close' # 结算价格\n",
    "comm = 10/1e4 # 单边交易成本\n",
    "# 所有策略共用一个选股池 Pool, ;后表示排除条件\n",
    "pool0 = GPm.ind.Pool(\";left_years<1|close<100|close>135|is_call=公告实施强赎|\"\\\n",
    "    \"is_call=公告提示强赎|is_call=已满足强赎条件|is_call=公告到期赎回\")\n",
    "n_core = 10  # 并行计算核数\n",
    "# 不同的打分因子 Score\n",
    "#GPm.ind.Score.max_exp_len = 10  # 生成的策略最大因子数量（默认10因子）\n",
    "#GPm.ind.Score.max_mul = 50 # 因子最大系数（默认50）\n",
    "# 因子库\n",
    "# 转股溢价率，双低，纯债溢价率，剩余规模，转债市占比，转债五日涨跌幅，波动率，正股市净率\n",
    "basket = ['conv_prem', 'dblow', 'bond_prem', 'remain_size', 'cap_mv_rate', 'pct_chg_5', 'volatility', 'pb']"
   ]
  },
  {
   "cell_type": "markdown",
   "metadata": {},
   "source": [
    "## 数据"
   ]
  },
  {
   "cell_type": "code",
   "execution_count": 3,
   "metadata": {},
   "outputs": [],
   "source": [
    "# 市场数据，格式为pd.DataFrame multiindex(date，code)\n",
    "market = pd.read_csv('./market.csv.xz', parse_dates=['date']).set_index(['date', 'code'])\n",
    "# 指数数据，格式为pd.DataFrame index(date), 简单收益率序列，默认取第一列为基准指数\n",
    "benchmark = pd.read_csv('./benchmark.csv.xz', parse_dates=['date']).set_index(['date'])"
   ]
  },
  {
   "cell_type": "markdown",
   "metadata": {},
   "source": [
    "# 运行"
   ]
  },
  {
   "cell_type": "code",
   "execution_count": 4,
   "metadata": {},
   "outputs": [],
   "source": [
    "def workflow(mark=None):\n",
    "    t0 = time.time()\n",
    "    # 生成初代种群\n",
    "    select_basket = list(sample(basket, int(len(basket)/2)))\n",
    "    gen0 = GPm.gen.Gen(select_basket)\n",
    "    seeds = gen0.get_seeds()\n",
    "    popu0 = GPm.popu.Population()\n",
    "    popu0.add(seeds)\n",
    "    GPm.ino.log('从%s个p中选择%s个p作为初始种群,耗时%.1lfs'%(len(popu0.codes),\\\n",
    "                            int(population_size/evolution_ratio), time.time()-t0))\n",
    "    popu0 = popu0.subset(int(population_size/evolution_ratio))\n",
    "    try:\n",
    "        os.mkdir('result')\n",
    "    except:\n",
    "        shutil.rmtree('result')\n",
    "        os.mkdir('result')\n",
    "    fitness_all = pd.DataFrame()\n",
    "    fitness = pd.DataFrame()\n",
    "    eval0 = GPm.eval.Eval(market, pool0)\n",
    "    gen0 = GPm.gen.Gen(basket, popu0)\n",
    "    max_sharpe = -99999\n",
    "    max_loc = 0\n",
    "    for g in range(max_g):\n",
    "        GPm.ino.log('第%s代'%(g))\n",
    "        t0 = time.time()\n",
    "        # 计算适应度\n",
    "        def single(p):\n",
    "            result = pd.DataFrame()\n",
    "            eval0.eval_score(p)\n",
    "            strat0 = eval0.backtest(hold_num, price)\n",
    "            post0 = FB.post.StratPost(strat0, eval0.market, benchmark=benchmark, comm=comm, show=False)\n",
    "\n",
    "            result.loc[p, 'return_total'] = post0.return_total\n",
    "            result.loc[p, 'return_annual'] = post0.return_annual\n",
    "            result.loc[p, 'sigma'] = -post0.sigma\n",
    "            result.loc[p, 'sharpe'] = post0.sharpe\n",
    "            result.loc[p, 'drawdown'] = -max(post0.drawdown)\n",
    "            result.loc[p, 'excess_annual'] = post0.excess_return_annual\n",
    "            result.loc[p, 'excess_sigma'] = -post0.excess_sigma\n",
    "            result.loc[p, 'excess_sharpe'] = post0.excess_sharpe\n",
    "            result.loc[p, 'excess_drawdown'] = -max(post0.excess_drawdown)\n",
    "            result.loc[p, 'beta'] = post0.beta\n",
    "            result.loc[p, 'alpha'] = post0.alpha*250*100\n",
    "            return result\n",
    "        if g!=0:\n",
    "            # 之前已经计算过的无需计算\n",
    "            fitness = fitness_all.loc[list(popu0.codes&set(fitness_all.index))]\n",
    "        GPm.ino.log('本代%d个策略，其中%d个策略已有计算结果'%(len(popu0.codes), len(fitness)))\n",
    "        if len(popu0.codes)!=len(fitness):\n",
    "            fitness_list = Parallel(n_jobs=n_core)(delayed(single)(p) \\\n",
    "                                        for p in list(popu0.codes-set(fitness.index)))\n",
    "            fitness_all = pd.concat([fitness_all, pd.concat(fitness_list)]).drop_duplicates()\n",
    "            fitness = pd.concat([fitness, pd.concat(fitness_list)])\n",
    "        GPm.ino.log('第%s轮进化适应度计算完成，耗时%.1lfs'%(g, time.time()-t0))\n",
    "        fitness = fitness.sort_values(fitfactor, ascending=False)\n",
    "        if fitness.iloc[0][fitfactor]>max_sharpe:\n",
    "            max_sharpe = fitness.iloc[0][fitfactor]\n",
    "            max_loc = g\n",
    "        fitness.to_csv('result/'+'fitness%s.csv'%g)\n",
    "        # 选择\n",
    "        #popu0.reset(set(fitness[:population_size].index)) # 截断选择\n",
    "        # 锦标赛，不放回\n",
    "        if select_alg=='tournament':\n",
    "            select = set()\n",
    "            while len(select)<population_size:\n",
    "                one = set(fitness.loc[sample(list(set(fitness.index)-select), int(len(fitness)/10))]\\\n",
    "                            .sort_values(by=fitfactor, ascending=False).index[:1])\n",
    "                select = select|one\n",
    "        popu0.reset(select)  \n",
    "        GPm.ino.log('第%s轮进化完成，最大%s:%.2lf'%(g, fitfactor, fitness.iloc[0][fitfactor]))\n",
    "        if ((g-max_loc)>tolerance_g)|(g==(max_g-1)):\n",
    "            GPm.ino.log('=====此初始种群进化完成=====')\n",
    "            fitness.loc[list(popu0.codes)].sort_values(by=fitfactor, ascending=False).\\\n",
    "                to_csv('result/'+'fitness%s.csv'%(g+1))\n",
    "            # 重命名结果\n",
    "            if mark==None:\n",
    "                os.rename('result', datetime.datetime.today().date().strftime(\"%Y%m%d\")+popu0.get_name())\n",
    "            else:\n",
    "                try:\n",
    "                    os.rename('result', mark+popu0.get_name(1))\n",
    "                except:\n",
    "                    try:\n",
    "                        os.rename('result', mark+popu0.get_name(2))\n",
    "                    except:\n",
    "                        try:\n",
    "                            os.rename('result', mark+popu0.get_name(3))\n",
    "                        except:\n",
    "                            os.rename('result', mark+popu0.get_name(4))\n",
    "            break\n",
    "        # 种群繁殖\n",
    "        #t0 = time.time()\n",
    "        gen0.multiply(1/evolution_ratio)\n",
    "        #GPm.ino.log('交叉变异生成第%s代种群, 耗时%.1lfs'%(g+1, time.time()-t0))"
   ]
  },
  {
   "cell_type": "code",
   "execution_count": 5,
   "metadata": {},
   "outputs": [
    {
     "name": "stdout",
     "output_type": "stream",
     "text": [
      "Error: [Errno 13] Permission denied: 'log.txt'. You don't have permission to access the specified file.\n",
      "Error: [Errno 13] Permission denied: 'log.txt'. You don't have permission to access the specified file.\n",
      "Error: [Errno 13] Permission denied: 'log.txt'. You don't have permission to access the specified file.\n",
      "Error: [Errno 13] Permission denied: 'log.txt'. You don't have permission to access the specified file.\n",
      "Error: [Errno 13] Permission denied: 'log.txt'. You don't have permission to access the specified file.\n"
     ]
    }
   ],
   "source": [
    "for i in range(3):\n",
    "    workflow(datetime.datetime.today().now().strftime('%Y%m%d%H'))"
   ]
  },
  {
   "cell_type": "code",
   "execution_count": null,
   "metadata": {},
   "outputs": [],
   "source": []
  }
 ],
 "metadata": {
  "kernelspec": {
   "display_name": "base",
   "language": "python",
   "name": "python3"
  },
  "language_info": {
   "codemirror_mode": {
    "name": "ipython",
    "version": 3
   },
   "file_extension": ".py",
   "mimetype": "text/x-python",
   "name": "python",
   "nbconvert_exporter": "python",
   "pygments_lexer": "ipython3",
   "version": "3.10.13"
  }
 },
 "nbformat": 4,
 "nbformat_minor": 2
}
