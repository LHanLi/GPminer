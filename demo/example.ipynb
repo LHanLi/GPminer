{
 "cells": [
  {
   "cell_type": "code",
   "execution_count": 1,
   "metadata": {},
   "outputs": [],
   "source": [
    "import pandas as pd\n",
    "import numpy as np\n",
    "from itertools import combinations\n",
    "from random import choice, sample\n",
    "from joblib import Parallel, delayed\n",
    "import GPminer as GPm\n",
    "import FreeBack as FB\n",
    "import time, datetime, os, re, shutil"
   ]
  },
  {
   "cell_type": "markdown",
   "metadata": {},
   "source": [
    "# 数据"
   ]
  },
  {
   "cell_type": "code",
   "execution_count": 2,
   "metadata": {},
   "outputs": [
    {
     "name": "stderr",
     "output_type": "stream",
     "text": [
      "C:\\Users\\Administrator\\AppData\\Local\\Temp\\ipykernel_17936\\3441976826.py:10: FutureWarning: Downcasting behavior in `replace` is deprecated and will be removed in a future version. To retain the old behavior, explicitly call `result.infer_objects(copy=False)`. To opt-in to the future behavior, set `pd.set_option('future.no_silent_downcasting', True)`\n",
      "  market['rating'] = market['rating'].replace(replace_dict)\n"
     ]
    }
   ],
   "source": [
    "start = '2024-1-2'\n",
    "end = '2024-8-30'\n",
    "\n",
    "market = pd.read_csv('./market.csv.xz', parse_dates=['date']).set_index(['date', 'code']).loc[start:end] # 市场数据\n",
    "benchmark = pd.read_csv('./benchmark.csv.xz', parse_dates=['date']).set_index(['date']).loc[start:end] # 指数数据\n",
    "\n",
    "# 评级转化为连续因子\n",
    "market['rating'] = market['rating'].fillna(market['rating'].mode().iloc[0]) # 众数填充\n",
    "replace_dict = {'AAA': 0, 'AA+': 1, 'AA': 2, 'AA-': 3, 'A+': 4, 'A': 5, 'A-': 6, 'BBB+': 7, 'BBB': 8, 'BBB-': 9, 'BB+': 10, 'BB': 11, 'BB-': 12, 'B+': 13, 'B': 14, 'B-': 15, 'CCC': 16, 'CC': 17, 'C':18}\n",
    "market['rating'] = market['rating'].replace(replace_dict)"
   ]
  },
  {
   "cell_type": "markdown",
   "metadata": {},
   "source": [
    "# 遗传算法参数"
   ]
  },
  {
   "cell_type": "code",
   "execution_count": 3,
   "metadata": {},
   "outputs": [],
   "source": [
    "fitness = 'sharpe' # 适应度目标\n",
    "population_size = 10 # 种群规模\n",
    "evolution_ratio = 0.2 # 每一代选择比例\n",
    "prob_dict = {} # 全部变异算子等概率运行\n",
    "select_alg = 'cut' # 子代选择方法 截断 cut  锦标赛 tournament\n",
    "n_core = 4  # 并行计算核数，1代表串行\n",
    "max_g = 30 # 最大进化代数，操作此代数结束进化\n",
    "tolerance_g = 3 # 最大允许适应度不提升代数，适应多连续不提升超过此代数结束进化\n",
    "n_batch = 3  # 进行n_batch组初始种群的进化"
   ]
  },
  {
   "cell_type": "markdown",
   "metadata": {},
   "source": [
    "# 策略参数"
   ]
  },
  {
   "cell_type": "markdown",
   "metadata": {},
   "source": [
    "## Score打分因子挖掘参数，以平衡性转债为例"
   ]
  },
  {
   "cell_type": "code",
   "execution_count": 4,
   "metadata": {},
   "outputs": [],
   "source": [
    "##### 策略超参数 #####\n",
    "# 所有策略共用一个选股池平衡性转债\n",
    "share = GPm.ind.Pool(\";list_days>1800|close<100|close>135|is_call=公告实施强赎,公告提示强赎,公告到期赎回\")\n",
    "#GPm.ind.Score.max_exp_len = 10  # 生成的策略最大因子数量（默认10因子）\n",
    "#GPm.ind.Score.max_mul = 50 # 因子最大系数（默认50）\n",
    "# 因子库\n",
    "score_basket = ['close', 'conv_prem', 'bond_prem', 'mod_conv_prem', 'dblow',\\\n",
    "                 'list_days', 'volatility', 'volatility_stk', 'remain_size', 'pe_ttm', 'pb']\n",
    "pool_basket = None\n",
    "# 给出一个初始种子在此基础上变异生成初始种子,如果没有初始score的话则随机生成种子\n",
    "#p0 = GPm.ind.Score(\"1*True*volatility+1*False*dblow\")\n",
    "p0 = None\n",
    "hold_num = 5  # 持仓数量\n",
    "price = 'close' # 结算价格\n",
    "comm = 10/1e4 # 单边交易成本\n",
    "max_extract = 1  # 最多排除100%标的"
   ]
  },
  {
   "cell_type": "markdown",
   "metadata": {},
   "source": [
    "## Pool排除因子挖掘参数，以转股溢价率为例"
   ]
  },
  {
   "cell_type": "code",
   "execution_count": 14,
   "metadata": {},
   "outputs": [],
   "source": [
    "##### 策略超参数 #####\n",
    "# 所有策略共用一个转股溢价率\n",
    "share = GPm.ind.Score(\"1*False*conv_prem\")\n",
    "# 因子库\n",
    "score_basket = None \n",
    "pool_basket = ['close', 'list_days', 'remain_size', 'pb']\n",
    "# 给出一个初始种子在此基础上变异生成初始种子,如果没有初始score的话则随机生成种子\n",
    "#p0 = GPm.ind.Pool(\";list_days>1800|close<100|close>135|is_call=公告实施强赎,公告提示强赎,公告到期赎回\")\n",
    "p0 = None\n",
    "hold_num = 5  # 持仓数量\n",
    "price = 'close' # 结算价格\n",
    "comm = 10/1e4 # 单边交易成本\n",
    "max_extract = 0.8  # 最多排除80%标的"
   ]
  },
  {
   "cell_type": "markdown",
   "metadata": {},
   "source": [
    "## SP策略挖掘参数"
   ]
  },
  {
   "cell_type": "code",
   "execution_count": 8,
   "metadata": {},
   "outputs": [],
   "source": [
    "##### 策略超参数 #####\n",
    "share = None\n",
    "# 因子库\n",
    "score_basket =  ['close', 'conv_prem', 'bond_prem', 'mod_conv_prem', 'dblow',\\\n",
    "            'list_days', 'volatility', 'volatility_stk', 'remain_size', 'pe_ttm', 'pb']\n",
    "pool_basket = ['close', 'list_days', 'remain_size', 'pb']\n",
    "# 给出一个初始种子在此基础上变异生成初始种子,如果没有初始SP的话则随机生成种子\n",
    "#p0 = GPm.ind.Pool(\"1*False*dblow&;list_days>1800|close<100|close>135|is_call=公告实施强赎,公告提示强赎,公告到期赎回\")\n",
    "p0 = None\n",
    "hold_num = 5  # 持仓数量\n",
    "price = 'close' # 结算价格\n",
    "comm = 10/1e4 # 单边交易成本\n",
    "max_extract = 0.8  # 最多排除80%标的"
   ]
  },
  {
   "cell_type": "markdown",
   "metadata": {},
   "source": [
    "# 运行"
   ]
  },
  {
   "cell_type": "code",
   "execution_count": 15,
   "metadata": {},
   "outputs": [
    {
     "ename": "KeyError",
     "evalue": "\"['cash'] not in index\"",
     "output_type": "error",
     "traceback": [
      "\u001b[1;31m---------------------------------------------------------------------------\u001b[0m",
      "\u001b[1;31m_RemoteTraceback\u001b[0m                          Traceback (most recent call last)",
      "\u001b[1;31m_RemoteTraceback\u001b[0m: \n\"\"\"\nTraceback (most recent call last):\n  File \"e:\\miniconda\\envs\\gitenv\\lib\\site-packages\\joblib\\externals\\loky\\process_executor.py\", line 431, in _process_worker\n    r = call_item()\n  File \"e:\\miniconda\\envs\\gitenv\\lib\\site-packages\\joblib\\externals\\loky\\process_executor.py\", line 285, in __call__\n    return self.fn(*self.args, **self.kwargs)\n  File \"e:\\miniconda\\envs\\gitenv\\lib\\site-packages\\joblib\\_parallel_backends.py\", line 595, in __call__\n    return self.func(*args, **kwargs)\n  File \"e:\\miniconda\\envs\\gitenv\\lib\\site-packages\\joblib\\parallel.py\", line 262, in __call__\n    return [func(*args, **kwargs)\n  File \"e:\\miniconda\\envs\\gitenv\\lib\\site-packages\\joblib\\parallel.py\", line 262, in <listcomp>\n    return [func(*args, **kwargs)\n  File \"d:\\gitcode\\gpstrat\\GPminer\\work.py\", line 106, in single\n    post0 = FB.post.StratPost(strat0, eval0.market, benchmark=self.benchmark,\\\n  File \"d:\\gitcode\\gpstrat\\GPminer\\eval.py\", line 71, in backtest\n    strat0.run()\n  File \"d:\\gitcode\\freeback\\FreeBack\\strat.py\", line 146, in run\n    self.code_returns = self.code_returns.unstack().fillna(0)[self.df_price.columns]\n  File \"e:\\miniconda\\envs\\gitenv\\lib\\site-packages\\pandas\\core\\frame.py\", line 4108, in __getitem__\n    indexer = self.columns._get_indexer_strict(key, \"columns\")[1]\n  File \"e:\\miniconda\\envs\\gitenv\\lib\\site-packages\\pandas\\core\\indexes\\base.py\", line 6200, in _get_indexer_strict\n    self._raise_if_missing(keyarr, indexer, axis_name)\n  File \"e:\\miniconda\\envs\\gitenv\\lib\\site-packages\\pandas\\core\\indexes\\base.py\", line 6252, in _raise_if_missing\n    raise KeyError(f\"{not_found} not in index\")\nKeyError: \"['cash'] not in index\"\n\"\"\"",
      "\nThe above exception was the direct cause of the following exception:\n",
      "\u001b[1;31mKeyError\u001b[0m                                  Traceback (most recent call last)",
      "\u001b[1;32md:\\gitcode\\GPstrat\\demo\\example.ipynb Cell 14\u001b[0m line \u001b[0;36m9\n\u001b[0;32m      <a href='vscode-notebook-cell:/d%3A/gitcode/GPstrat/demo/example.ipynb#X13sZmlsZQ%3D%3D?line=4'>5</a>\u001b[0m miner0\u001b[39m.\u001b[39mprepare(fitness\u001b[39m=\u001b[39mfitness, population_size\u001b[39m=\u001b[39mpopulation_size, evolution_ratio\u001b[39m=\u001b[39mevolution_ratio,\\\n\u001b[0;32m      <a href='vscode-notebook-cell:/d%3A/gitcode/GPstrat/demo/example.ipynb#X13sZmlsZQ%3D%3D?line=5'>6</a>\u001b[0m                 prob_dict\u001b[39m=\u001b[39mprob_dict, select_alg\u001b[39m=\u001b[39mselect_alg, n_core\u001b[39m=\u001b[39mn_core,\\\n\u001b[0;32m      <a href='vscode-notebook-cell:/d%3A/gitcode/GPstrat/demo/example.ipynb#X13sZmlsZQ%3D%3D?line=6'>7</a>\u001b[0m                 max_g\u001b[39m=\u001b[39mmax_g, tolerance_g\u001b[39m=\u001b[39mtolerance_g)\n\u001b[0;32m      <a href='vscode-notebook-cell:/d%3A/gitcode/GPstrat/demo/example.ipynb#X13sZmlsZQ%3D%3D?line=7'>8</a>\u001b[0m \u001b[39mfor\u001b[39;00m i \u001b[39min\u001b[39;00m \u001b[39mrange\u001b[39m(n_batch):\n\u001b[1;32m----> <a href='vscode-notebook-cell:/d%3A/gitcode/GPstrat/demo/example.ipynb#X13sZmlsZQ%3D%3D?line=8'>9</a>\u001b[0m     miner0\u001b[39m.\u001b[39;49mrun()\n",
      "File \u001b[1;32md:\\gitcode\\gpstrat\\GPminer\\work.py:130\u001b[0m, in \u001b[0;36mMiner.run\u001b[1;34m(self)\u001b[0m\n\u001b[0;32m    128\u001b[0m \u001b[39mif\u001b[39;00m \u001b[39mlen\u001b[39m(popu0\u001b[39m.\u001b[39mcodes)\u001b[39m!=\u001b[39m\u001b[39mlen\u001b[39m(fitness_df):\n\u001b[0;32m    129\u001b[0m     \u001b[39mif\u001b[39;00m \u001b[39mself\u001b[39m\u001b[39m.\u001b[39mn_core\u001b[39m!=\u001b[39m\u001b[39m1\u001b[39m:   \u001b[39m# 并行\u001b[39;00m\n\u001b[1;32m--> 130\u001b[0m         fitness_list \u001b[39m=\u001b[39m Parallel(n_jobs\u001b[39m=\u001b[39;49m\u001b[39mself\u001b[39;49m\u001b[39m.\u001b[39;49mn_core)(delayed(single)(p) \\\n\u001b[0;32m    131\u001b[0m                                 \u001b[39mfor\u001b[39;49;00m p \u001b[39min\u001b[39;49;00m \u001b[39mlist\u001b[39;49m(popu0\u001b[39m.\u001b[39;49mcodes\u001b[39m-\u001b[39;49m\u001b[39mset\u001b[39;49m(fitness_df\u001b[39m.\u001b[39;49mindex)))\n\u001b[0;32m    132\u001b[0m     \u001b[39melse\u001b[39;00m:    \u001b[39m# 串行\u001b[39;00m\n\u001b[0;32m    133\u001b[0m         fitness_list \u001b[39m=\u001b[39m []\n",
      "File \u001b[1;32me:\\miniconda\\envs\\gitenv\\lib\\site-packages\\joblib\\parallel.py:1054\u001b[0m, in \u001b[0;36mParallel.__call__\u001b[1;34m(self, iterable)\u001b[0m\n\u001b[0;32m   1051\u001b[0m     \u001b[39mself\u001b[39m\u001b[39m.\u001b[39m_iterating \u001b[39m=\u001b[39m \u001b[39mFalse\u001b[39;00m\n\u001b[0;32m   1053\u001b[0m \u001b[39mwith\u001b[39;00m \u001b[39mself\u001b[39m\u001b[39m.\u001b[39m_backend\u001b[39m.\u001b[39mretrieval_context():\n\u001b[1;32m-> 1054\u001b[0m     \u001b[39mself\u001b[39;49m\u001b[39m.\u001b[39;49mretrieve()\n\u001b[0;32m   1055\u001b[0m \u001b[39m# Make sure that we get a last message telling us we are done\u001b[39;00m\n\u001b[0;32m   1056\u001b[0m elapsed_time \u001b[39m=\u001b[39m time\u001b[39m.\u001b[39mtime() \u001b[39m-\u001b[39m \u001b[39mself\u001b[39m\u001b[39m.\u001b[39m_start_time\n",
      "File \u001b[1;32me:\\miniconda\\envs\\gitenv\\lib\\site-packages\\joblib\\parallel.py:933\u001b[0m, in \u001b[0;36mParallel.retrieve\u001b[1;34m(self)\u001b[0m\n\u001b[0;32m    931\u001b[0m \u001b[39mtry\u001b[39;00m:\n\u001b[0;32m    932\u001b[0m     \u001b[39mif\u001b[39;00m \u001b[39mgetattr\u001b[39m(\u001b[39mself\u001b[39m\u001b[39m.\u001b[39m_backend, \u001b[39m'\u001b[39m\u001b[39msupports_timeout\u001b[39m\u001b[39m'\u001b[39m, \u001b[39mFalse\u001b[39;00m):\n\u001b[1;32m--> 933\u001b[0m         \u001b[39mself\u001b[39m\u001b[39m.\u001b[39m_output\u001b[39m.\u001b[39mextend(job\u001b[39m.\u001b[39;49mget(timeout\u001b[39m=\u001b[39;49m\u001b[39mself\u001b[39;49m\u001b[39m.\u001b[39;49mtimeout))\n\u001b[0;32m    934\u001b[0m     \u001b[39melse\u001b[39;00m:\n\u001b[0;32m    935\u001b[0m         \u001b[39mself\u001b[39m\u001b[39m.\u001b[39m_output\u001b[39m.\u001b[39mextend(job\u001b[39m.\u001b[39mget())\n",
      "File \u001b[1;32me:\\miniconda\\envs\\gitenv\\lib\\site-packages\\joblib\\_parallel_backends.py:542\u001b[0m, in \u001b[0;36mLokyBackend.wrap_future_result\u001b[1;34m(future, timeout)\u001b[0m\n\u001b[0;32m    539\u001b[0m \u001b[39m\u001b[39m\u001b[39m\"\"\"Wrapper for Future.result to implement the same behaviour as\u001b[39;00m\n\u001b[0;32m    540\u001b[0m \u001b[39mAsyncResults.get from multiprocessing.\"\"\"\u001b[39;00m\n\u001b[0;32m    541\u001b[0m \u001b[39mtry\u001b[39;00m:\n\u001b[1;32m--> 542\u001b[0m     \u001b[39mreturn\u001b[39;00m future\u001b[39m.\u001b[39;49mresult(timeout\u001b[39m=\u001b[39;49mtimeout)\n\u001b[0;32m    543\u001b[0m \u001b[39mexcept\u001b[39;00m CfTimeoutError \u001b[39mas\u001b[39;00m e:\n\u001b[0;32m    544\u001b[0m     \u001b[39mraise\u001b[39;00m \u001b[39mTimeoutError\u001b[39;00m \u001b[39mfrom\u001b[39;00m \u001b[39me\u001b[39;00m\n",
      "File \u001b[1;32me:\\miniconda\\envs\\gitenv\\lib\\concurrent\\futures\\_base.py:458\u001b[0m, in \u001b[0;36mFuture.result\u001b[1;34m(self, timeout)\u001b[0m\n\u001b[0;32m    456\u001b[0m     \u001b[39mraise\u001b[39;00m CancelledError()\n\u001b[0;32m    457\u001b[0m \u001b[39melif\u001b[39;00m \u001b[39mself\u001b[39m\u001b[39m.\u001b[39m_state \u001b[39m==\u001b[39m FINISHED:\n\u001b[1;32m--> 458\u001b[0m     \u001b[39mreturn\u001b[39;00m \u001b[39mself\u001b[39;49m\u001b[39m.\u001b[39;49m__get_result()\n\u001b[0;32m    459\u001b[0m \u001b[39melse\u001b[39;00m:\n\u001b[0;32m    460\u001b[0m     \u001b[39mraise\u001b[39;00m \u001b[39mTimeoutError\u001b[39;00m()\n",
      "File \u001b[1;32me:\\miniconda\\envs\\gitenv\\lib\\concurrent\\futures\\_base.py:403\u001b[0m, in \u001b[0;36mFuture.__get_result\u001b[1;34m(self)\u001b[0m\n\u001b[0;32m    401\u001b[0m \u001b[39mif\u001b[39;00m \u001b[39mself\u001b[39m\u001b[39m.\u001b[39m_exception:\n\u001b[0;32m    402\u001b[0m     \u001b[39mtry\u001b[39;00m:\n\u001b[1;32m--> 403\u001b[0m         \u001b[39mraise\u001b[39;00m \u001b[39mself\u001b[39m\u001b[39m.\u001b[39m_exception\n\u001b[0;32m    404\u001b[0m     \u001b[39mfinally\u001b[39;00m:\n\u001b[0;32m    405\u001b[0m         \u001b[39m# Break a reference cycle with the exception in self._exception\u001b[39;00m\n\u001b[0;32m    406\u001b[0m         \u001b[39mself\u001b[39m \u001b[39m=\u001b[39m \u001b[39mNone\u001b[39;00m\n",
      "\u001b[1;31mKeyError\u001b[0m: \"['cash'] not in index\""
     ]
    }
   ],
   "source": [
    "#code_returns = None\n",
    "code_returns = (market['close']/market['pre_close']-1).fillna(0)\n",
    "miner0 = GPm.work.Miner(market, benchmark, share, score_basket=score_basket, pool_basket=pool_basket, p0=p0,\\\n",
    "                hold_num=hold_num, price=price, code_returns=code_returns, comm=comm, max_extract=max_extract)\n",
    "miner0.prepare(fitness=fitness, population_size=population_size, evolution_ratio=evolution_ratio,\\\n",
    "                prob_dict=prob_dict, select_alg=select_alg, n_core=n_core,\\\n",
    "                max_g=max_g, tolerance_g=tolerance_g)\n",
    "for i in range(n_batch):\n",
    "    miner0.run()"
   ]
  },
  {
   "cell_type": "code",
   "execution_count": null,
   "metadata": {},
   "outputs": [],
   "source": []
  },
  {
   "cell_type": "code",
   "execution_count": null,
   "metadata": {},
   "outputs": [],
   "source": []
  },
  {
   "cell_type": "code",
   "execution_count": null,
   "metadata": {},
   "outputs": [],
   "source": []
  },
  {
   "cell_type": "code",
   "execution_count": 16,
   "metadata": {},
   "outputs": [],
   "source": [
    "eval0 = GPm.eval.Eval(market, score=share)"
   ]
  },
  {
   "cell_type": "code",
   "execution_count": 17,
   "metadata": {},
   "outputs": [],
   "source": [
    "eval0.eval_pool(';list_days<570.0|list_days>1213.0')"
   ]
  },
  {
   "cell_type": "code",
   "execution_count": 18,
   "metadata": {},
   "outputs": [],
   "source": [
    "eval0.eval_score()"
   ]
  },
  {
   "cell_type": "code",
   "execution_count": null,
   "metadata": {},
   "outputs": [],
   "source": []
  },
  {
   "cell_type": "code",
   "execution_count": 20,
   "metadata": {},
   "outputs": [],
   "source": [
    "strat0 = eval0.backtest(hold_num, price, code_returns)\n",
    "post0 = FB.post.StratPost(strat0, eval0.market, benchmark=benchmark,\\\n",
    "                                        comm=comm, show=False)"
   ]
  },
  {
   "cell_type": "code",
   "execution_count": 22,
   "metadata": {},
   "outputs": [
    {
     "data": {
      "text/plain": [
       "date\n",
       "2024-01-02    0.000000\n",
       "2024-01-03   -0.000178\n",
       "2024-01-04    0.006636\n",
       "2024-01-05   -0.006494\n",
       "2024-01-08   -0.014095\n",
       "                ...   \n",
       "2024-08-26    0.002324\n",
       "2024-08-27    0.000674\n",
       "2024-08-28   -0.000205\n",
       "2024-08-29   -0.006874\n",
       "2024-08-30    0.004634\n",
       "Length: 162, dtype: float64"
      ]
     },
     "execution_count": 22,
     "metadata": {},
     "output_type": "execute_result"
    }
   ],
   "source": [
    "strat0.returns"
   ]
  },
  {
   "cell_type": "code",
   "execution_count": null,
   "metadata": {},
   "outputs": [],
   "source": []
  },
  {
   "cell_type": "code",
   "execution_count": null,
   "metadata": {},
   "outputs": [],
   "source": []
  },
  {
   "cell_type": "code",
   "execution_count": 11,
   "metadata": {},
   "outputs": [
    {
     "data": {
      "text/plain": [
       "<module 'GPminer.work' from 'd:\\\\gitcode\\\\gpstrat\\\\GPminer\\\\work.py'>"
      ]
     },
     "execution_count": 11,
     "metadata": {},
     "output_type": "execute_result"
    }
   ],
   "source": [
    "import importlib\n",
    "importlib.reload(GPm.work)"
   ]
  },
  {
   "cell_type": "code",
   "execution_count": null,
   "metadata": {},
   "outputs": [],
   "source": []
  },
  {
   "cell_type": "code",
   "execution_count": null,
   "metadata": {},
   "outputs": [],
   "source": []
  },
  {
   "cell_type": "code",
   "execution_count": null,
   "metadata": {},
   "outputs": [],
   "source": []
  },
  {
   "cell_type": "code",
   "execution_count": null,
   "metadata": {},
   "outputs": [],
   "source": []
  },
  {
   "cell_type": "code",
   "execution_count": null,
   "metadata": {},
   "outputs": [],
   "source": []
  }
 ],
 "metadata": {
  "kernelspec": {
   "display_name": "base",
   "language": "python",
   "name": "python3"
  },
  "language_info": {
   "codemirror_mode": {
    "name": "ipython",
    "version": 3
   },
   "file_extension": ".py",
   "mimetype": "text/x-python",
   "name": "python",
   "nbconvert_exporter": "python",
   "pygments_lexer": "ipython3",
   "version": "3.10.9"
  }
 },
 "nbformat": 4,
 "nbformat_minor": 2
}
