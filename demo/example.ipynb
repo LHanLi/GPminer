{
 "cells": [
  {
   "cell_type": "code",
   "execution_count": 1,
   "metadata": {},
   "outputs": [],
   "source": [
    "import pandas as pd\n",
    "import numpy as np\n",
    "from itertools import combinations\n",
    "from random import choice, sample\n",
    "from joblib import Parallel, delayed\n",
    "import GPminer as GPm\n",
    "import FreeBack as FB\n",
    "import time, datetime, os, re, shutil"
   ]
  },
  {
   "cell_type": "markdown",
   "metadata": {},
   "source": [
    "# Score打分因子挖掘工作流，以平衡性转债为例"
   ]
  },
  {
   "cell_type": "markdown",
   "metadata": {},
   "source": [
    "## 数据"
   ]
  },
  {
   "cell_type": "code",
   "execution_count": 2,
   "metadata": {},
   "outputs": [
    {
     "name": "stderr",
     "output_type": "stream",
     "text": [
      "C:\\Users\\Administrator\\AppData\\Local\\Temp\\ipykernel_33048\\4074347238.py:10: FutureWarning: Downcasting behavior in `replace` is deprecated and will be removed in a future version. To retain the old behavior, explicitly call `result.infer_objects(copy=False)`. To opt-in to the future behavior, set `pd.set_option('future.no_silent_downcasting', True)`\n",
      "  market['rating'] = market['rating'].replace(replace_dict)\n"
     ]
    }
   ],
   "source": [
    "start = '2024-1-1'\n",
    "end = '2024-9-1'\n",
    "\n",
    "market = pd.read_csv('./market.csv.xz', parse_dates=['date']).set_index(['date', 'code']).loc[start:end] # 市场数据\n",
    "benchmark = pd.read_csv('./benchmark.csv.xz', parse_dates=['date']).set_index(['date']).loc[start:end] # 指数数据\n",
    "\n",
    "# 评级转化为连续因子\n",
    "market['rating'] = market['rating'].fillna(market['rating'].mode().iloc[0]) # 众数填充\n",
    "replace_dict = {'AAA': 0, 'AA+': 1, 'AA': 2, 'AA-': 3, 'A+': 4, 'A': 5, 'A-': 6, 'BBB+': 7, 'BBB': 8, 'BBB-': 9, 'BB+': 10, 'BB': 11, 'BB-': 12, 'B+': 13, 'B': 14, 'B-': 15, 'CCC': 16, 'CC': 17, 'C':18}\n",
    "market['rating'] = market['rating'].replace(replace_dict)"
   ]
  },
  {
   "cell_type": "markdown",
   "metadata": {},
   "source": [
    "# 自定义参数"
   ]
  },
  {
   "cell_type": "code",
   "execution_count": 3,
   "metadata": {},
   "outputs": [],
   "source": [
    "##### 策略超参数 #####\n",
    "# 所有策略共用一个选股池平衡性转债\n",
    "pool_share = GPm.ind.Pool(\";list_days>1800|close<100|close>135|is_call=公告实施强赎,公告提示强赎,公告到期赎回\")\n",
    "#GPm.ind.Score.max_exp_len = 10  # 生成的策略最大因子数量（默认10因子）\n",
    "#GPm.ind.Score.max_mul = 50 # 因子最大系数（默认50）\n",
    "# 因子库\n",
    "score_basket = ['close', 'conv_prem', 'bond_prem', 'mod_conv_prem', 'dblow',\\\n",
    "                 'list_days', 'volatility', 'volatility_stk', 'remain_size', 'pe_ttm', 'pb']\n",
    "# 给出一个初始种子在此基础上变异生成初始种子,如果没有初始score的话则随机生成种子\n",
    "#p0 = GPm.ind.Score(\"1*True*volatility+1*False*dblow\")\n",
    "p0 = None\n",
    "hold_num = 5  # 持仓数量\n",
    "price = 'close' # 结算价格\n",
    "comm = 10/1e4 # 单边交易成本"
   ]
  },
  {
   "cell_type": "code",
   "execution_count": null,
   "metadata": {},
   "outputs": [],
   "source": [
    "###### 遗传算法参数 #####\n",
    "fitness = 'sharpe' # 适应度目标\n",
    "population_size = 10 # 种群规模\n",
    "evolution_ratio = 0.2 # 每一代选择比例\n",
    "prob_dict = {} # 全部变异算子等概率运行\n",
    "select_alg = 'cut' # 子代选择方法 截断 cut  锦标赛 tournament\n",
    "n_core = 4  # 并行计算核数，1代表串行\n",
    "max_g = 10 # 最大进化代数，操作此代数结束进化\n",
    "tolerance_g = 3 # 最大允许适应度不提升代数，适应多连续不提升超过此代数结束进化\n",
    "n_batch = 3  # 进行n_batch组初始种群的进化"
   ]
  },
  {
   "cell_type": "markdown",
   "metadata": {},
   "source": [
    "# 主程序"
   ]
  },
  {
   "cell_type": "code",
   "execution_count": null,
   "metadata": {},
   "outputs": [],
   "source": [
    "miner0 = GPm.work.Miner(market, benchmark, pool_share, score_basket=score_basket, p0=p0,\\\n",
    "                hold_num=hold_num, price=price, comm=comm)\n",
    "miner0.prepare(fitness=fitness, population_size=population_size, evolution_ratio=evolution_ratio,\\\n",
    "                prob_dict=prob_dict, select_alg=select_alg, n_core=n_core,\\\n",
    "                max_g=max_g, tolerance_g=tolerance_g)\n",
    "for i in range(n_batch):\n",
    "    miner0.run()"
   ]
  },
  {
   "cell_type": "code",
   "execution_count": null,
   "metadata": {},
   "outputs": [],
   "source": []
  },
  {
   "cell_type": "code",
   "execution_count": null,
   "metadata": {},
   "outputs": [],
   "source": []
  },
  {
   "cell_type": "code",
   "execution_count": null,
   "metadata": {},
   "outputs": [],
   "source": []
  },
  {
   "cell_type": "code",
   "execution_count": null,
   "metadata": {},
   "outputs": [],
   "source": []
  },
  {
   "cell_type": "code",
   "execution_count": null,
   "metadata": {},
   "outputs": [],
   "source": []
  },
  {
   "cell_type": "code",
   "execution_count": null,
   "metadata": {},
   "outputs": [],
   "source": []
  },
  {
   "cell_type": "code",
   "execution_count": null,
   "metadata": {},
   "outputs": [],
   "source": []
  },
  {
   "cell_type": "code",
   "execution_count": null,
   "metadata": {},
   "outputs": [],
   "source": []
  },
  {
   "cell_type": "code",
   "execution_count": 22,
   "metadata": {},
   "outputs": [],
   "source": [
    "class Miner():\n",
    "    # 矿工初始化需输入策略超参数，share表示挖掘出一组策略的共享部分，\n",
    "    # 如果share是pool则挖掘score，反之亦然，如果是None则挖掘SP\n",
    "    def __init__(self, market, benchmark=None, share=None, pool_basket=None, score_basket=None, p0=None,\\\n",
    "                  hold_num=5, comm=10/1e4, price='close'):\n",
    "        self.market = market\n",
    "        self.benchmark = benchmark\n",
    "        self.share = share\n",
    "        if pool_basket!=None:\n",
    "            self.pool_basket = pool_basket\n",
    "        else:\n",
    "            self.pool_basket = list(market.columns)\n",
    "        if score_basket!=None:\n",
    "            self.score_basket = score_basket\n",
    "        else:\n",
    "            self.score_basket = list(market.columns)\n",
    "        self.p0 = p0\n",
    "        self.hold_num = hold_num\n",
    "        self.comm = comm\n",
    "        self.price = price\n",
    "    def prepare(self, fitness='sharpe',\\\n",
    "                 population_size=10, evolution_ratio=0.2, tolerance_g=3, max_g=10,\\\n",
    "                  prob_dict={}, select_alg='cut', n_core=4):\n",
    "        self.fitness = fitness\n",
    "        self.population_size = population_size\n",
    "        self.evolution_ratio = evolution_ratio\n",
    "        self.tolerance_g = tolerance_g\n",
    "        self.max_g = max_g\n",
    "        self.prob_dict = prob_dict\n",
    "        self.select_alg = select_alg\n",
    "        self.n_core = n_core\n",
    "        # 生成初代种群需要\n",
    "        self.gen0 = GPm.gen.Gen(score_basket=self.score_basket,\\\n",
    "                            market=self.market, indtype='Score')\n",
    "        if self.p0!=None:\n",
    "            self.gen0.popu.add(self.p0.code)\n",
    "            while len(self.gen0.popu.codes)<int(self.population_size/self.evolution_ratio):\n",
    "                self.gen0.multiply()\n",
    "        else:\n",
    "            self.seeds = list(self.gen0.get_seeds())\n",
    "    def run(self):\n",
    "        workfile = datetime.datetime.now().strftime(\"%m%d%H%M_%S_%f\")+\\\n",
    "                            '_%s'%np.random.rand()\n",
    "        t0 = time.time()\n",
    "        if self.p0!=None:\n",
    "            init_seeds = self.gen0.popu.subset(int(self.population_size/self.evolution_ratio)\\\n",
    "                                               -1).codes|{self.p0.code}\n",
    "        else:\n",
    "            init_seeds = sample(self.seeds, int(self.population_size/self.evolution_ratio))\n",
    "        GPm.ino.log('生成%s个p作为初始种群'%len(init_seeds))\n",
    "        GPm.ino.log('=====此初始种群进化开始=====')\n",
    "        os.mkdir(workfile)\n",
    "        fitness_all = pd.DataFrame()\n",
    "        fitness_df = pd.DataFrame()\n",
    "        # 后续进化在popu0上操作 \n",
    "        popu0 = GPm.popu.Population(type=GPm.ind.Score)\n",
    "        eval0 = GPm.eval.Eval(market, pool=self.share)\n",
    "        eval0.eval_pool()\n",
    "        for ind in init_seeds:\n",
    "            popu0.add(ind) \n",
    "        gen0 = GPm.gen.Gen(score_basket=self.score_basket, market=self.market,\\\n",
    "                            indtype='Score', popu0=popu0)\n",
    "        max_fitness = -99999\n",
    "        max_loc = 0\n",
    "        for g in range(self.max_g):\n",
    "            GPm.ino.log('第%s代'%(g))\n",
    "            # 计算适应度\n",
    "            def single(p):\n",
    "                result = pd.DataFrame()\n",
    "                eval0.eval_score(p)\n",
    "                strat0 = eval0.backtest(self.hold_num, self.price)\n",
    "                post0 = FB.post.StratPost(strat0, eval0.market, benchmark=self.benchmark,\\\n",
    "                                            comm=self.comm, show=False)\n",
    "                result.loc[p, 'return_total'] = post0.return_total\n",
    "                result.loc[p, 'return_annual'] = post0.return_annual\n",
    "                result.loc[p, 'sigma'] = -post0.sigma\n",
    "                result.loc[p, 'sharpe'] = post0.sharpe\n",
    "                result.loc[p, 'drawdown'] = -max(post0.drawdown)\n",
    "                result.loc[p, 'excess_annual'] = post0.excess_return_annual\n",
    "                result.loc[p, 'excess_sigma'] = -post0.excess_sigma\n",
    "                result.loc[p, 'excess_sharpe'] = post0.excess_sharpe\n",
    "                result.loc[p, 'excess_drawdown'] = -max(post0.excess_drawdown)\n",
    "                result.loc[p, 'beta'] = post0.beta\n",
    "                result.loc[p, 'alpha'] = post0.alpha*250*100\n",
    "                return result\n",
    "            if g!=0:\n",
    "                # 之前已经计算过的无需计算\n",
    "                fitness_df = fitness_all.loc[list(popu0.codes&set(fitness_all.index))]\n",
    "            GPm.ino.log('本代%d个策略，其中%d个策略已有计算结果'%(len(popu0.codes), len(fitness_df)))\n",
    "            if len(popu0.codes)!=len(fitness_df):\n",
    "                if self.n_core!=1:   # 并行\n",
    "                    fitness_list = Parallel(n_jobs=self.n_core)(delayed(single)(p) \\\n",
    "                                            for p in list(popu0.codes-set(fitness_df.index)))\n",
    "                else:    # 串行\n",
    "                    fitness_list = []\n",
    "                    for p in list(popu0.codes - set(fitness_df.index)):\n",
    "                        fitness_list.append(single(p))\n",
    "                fitness_all = pd.concat([fitness_all, pd.concat(fitness_list)]).drop_duplicates()\n",
    "                fitness_df = pd.concat([fitness_df, pd.concat(fitness_list)])\n",
    "            GPm.ino.log('第%s轮进化适应度计算完成'%g)\n",
    "            fitness_df = fitness_df.sort_values(self.fitness, ascending=False)\n",
    "            if fitness_df.iloc[0][self.fitness]>max_fitness:\n",
    "                max_fitness = fitness_df.iloc[0][self.fitness]\n",
    "                max_loc = g\n",
    "            fitness_df.to_csv(workfile+'/fitness%s.csv'%g)\n",
    "            # 选择\n",
    "            if select_alg=='cut':\n",
    "                popu0.reset(set(fitness_df[:self.population_size].index)) # 截断选择\n",
    "            # 锦标赛，不放回\n",
    "            elif select_alg=='tournament':\n",
    "                select = set()\n",
    "                while len(select)<self.population_size:\n",
    "                    one = set(fitness_df.loc[sample(list(set(fitness_df.index)-select), int(len(fitness_df)/10))]\\\n",
    "                                .sort_values(by=self.fitness, ascending=False).index[:1])\n",
    "                    select = select|one\n",
    "                popu0.reset(select)  \n",
    "            GPm.ino.log('第%s轮进化完成，最大%s:%.2lf'%(g, self.fitness, fitness_df.iloc[0][self.fitness]))\n",
    "            if ((g-max_loc)>tolerance_g)|(g==(self.max_g-1)):\n",
    "                cost = time.time()-t0\n",
    "                GPm.ino.log('=====此初始种群进化完成=====共计算%d个策略，总耗时%.1lfs，单策略耗时%.2lfs'%(\\\n",
    "                    len(fitness_all), cost, cost/len(fitness_all)))\n",
    "                fitness_df.loc[list(popu0.codes)].sort_values(by=self.fitness, ascending=False).\\\n",
    "                    to_csv(workfile+'/fitness%s.csv'%(g+1))\n",
    "                # 重命名结果\n",
    "                os.rename(workfile, 'result-' + workfile+'-'+popu0.get_name())\n",
    "                break\n",
    "            # 种群繁殖\n",
    "            #t0 = time.time()\n",
    "            gen0.multiply(1/self.evolution_ratio)\n",
    "            GPm.ino.log('交叉变异生成第%s代种群'%(g+1))"
   ]
  },
  {
   "cell_type": "code",
   "execution_count": null,
   "metadata": {},
   "outputs": [],
   "source": []
  }
 ],
 "metadata": {
  "kernelspec": {
   "display_name": "base",
   "language": "python",
   "name": "python3"
  },
  "language_info": {
   "codemirror_mode": {
    "name": "ipython",
    "version": 3
   },
   "file_extension": ".py",
   "mimetype": "text/x-python",
   "name": "python",
   "nbconvert_exporter": "python",
   "pygments_lexer": "ipython3",
   "version": "3.10.9"
  }
 },
 "nbformat": 4,
 "nbformat_minor": 2
}
