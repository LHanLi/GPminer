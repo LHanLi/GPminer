{
 "cells": [
  {
   "cell_type": "code",
   "execution_count": 1,
   "metadata": {},
   "outputs": [],
   "source": [
    "import pandas as pd\n",
    "import numpy as np\n",
    "from itertools import combinations\n",
    "from random import choice, sample\n",
    "from joblib import Parallel, delayed\n",
    "import GPminer as GPm\n",
    "import FreeBack as FB\n",
    "import time, datetime, os, re, shutil"
   ]
  },
  {
   "cell_type": "markdown",
   "metadata": {},
   "source": [
    "# 数据"
   ]
  },
  {
   "cell_type": "code",
   "execution_count": 6,
   "metadata": {},
   "outputs": [
    {
     "name": "stderr",
     "output_type": "stream",
     "text": [
      "C:\\Users\\Administrator\\AppData\\Local\\Temp\\ipykernel_4720\\4074347238.py:10: FutureWarning: Downcasting behavior in `replace` is deprecated and will be removed in a future version. To retain the old behavior, explicitly call `result.infer_objects(copy=False)`. To opt-in to the future behavior, set `pd.set_option('future.no_silent_downcasting', True)`\n",
      "  market['rating'] = market['rating'].replace(replace_dict)\n"
     ]
    }
   ],
   "source": [
    "start = '2024-1-1'\n",
    "end = '2024-9-1'\n",
    "\n",
    "market = pd.read_csv('./market.csv.xz', parse_dates=['date']).set_index(['date', 'code']).loc[start:end] # 市场数据\n",
    "benchmark = pd.read_csv('./benchmark.csv.xz', parse_dates=['date']).set_index(['date']).loc[start:end] # 指数数据\n",
    "\n",
    "# 评级转化为连续因子\n",
    "market['rating'] = market['rating'].fillna(market['rating'].mode().iloc[0]) # 众数填充\n",
    "replace_dict = {'AAA': 0, 'AA+': 1, 'AA': 2, 'AA-': 3, 'A+': 4, 'A': 5, 'A-': 6, 'BBB+': 7, 'BBB': 8, 'BBB-': 9, 'BB+': 10, 'BB': 11, 'BB-': 12, 'B+': 13, 'B': 14, 'B-': 15, 'CCC': 16, 'CC': 17, 'C':18}\n",
    "market['rating'] = market['rating'].replace(replace_dict)"
   ]
  },
  {
   "cell_type": "markdown",
   "metadata": {},
   "source": [
    "# 遗传算法参数"
   ]
  },
  {
   "cell_type": "code",
   "execution_count": 4,
   "metadata": {},
   "outputs": [],
   "source": [
    "fitness = 'sharpe' # 适应度目标\n",
    "population_size = 10 # 种群规模\n",
    "evolution_ratio = 0.2 # 每一代选择比例\n",
    "prob_dict = {} # 全部变异算子等概率运行\n",
    "select_alg = 'cut' # 子代选择方法 截断 cut  锦标赛 tournament\n",
    "n_core = 4  # 并行计算核数，1代表串行\n",
    "max_g = 30 # 最大进化代数，操作此代数结束进化\n",
    "tolerance_g = 3 # 最大允许适应度不提升代数，适应多连续不提升超过此代数结束进化\n",
    "n_batch = 3  # 进行n_batch组初始种群的进化"
   ]
  },
  {
   "cell_type": "markdown",
   "metadata": {},
   "source": [
    "# Score打分因子挖掘工作流，以平衡性转债为例"
   ]
  },
  {
   "cell_type": "code",
   "execution_count": 3,
   "metadata": {},
   "outputs": [],
   "source": [
    "##### 策略超参数 #####\n",
    "# 所有策略共用一个选股池平衡性转债\n",
    "pool_share = GPm.ind.Pool(\";list_days>1800|close<100|close>135|is_call=公告实施强赎,公告提示强赎,公告到期赎回\")\n",
    "#GPm.ind.Score.max_exp_len = 10  # 生成的策略最大因子数量（默认10因子）\n",
    "#GPm.ind.Score.max_mul = 50 # 因子最大系数（默认50）\n",
    "# 因子库\n",
    "score_basket = ['close', 'conv_prem', 'bond_prem', 'mod_conv_prem', 'dblow',\\\n",
    "                 'list_days', 'volatility', 'volatility_stk', 'remain_size', 'pe_ttm', 'pb']\n",
    "# 给出一个初始种子在此基础上变异生成初始种子,如果没有初始score的话则随机生成种子\n",
    "#p0 = GPm.ind.Score(\"1*True*volatility+1*False*dblow\")\n",
    "p0 = None\n",
    "hold_num = 5  # 持仓数量\n",
    "price = 'close' # 结算价格\n",
    "code_returns = None # 标的收益（默认None标的收益等于close到close的变化率）\n",
    "comm = 10/1e4 # 单边交易成本"
   ]
  },
  {
   "cell_type": "markdown",
   "metadata": {},
   "source": [
    "# 运行"
   ]
  },
  {
   "cell_type": "code",
   "execution_count": 5,
   "metadata": {},
   "outputs": [],
   "source": [
    "miner0 = GPm.work.Miner(market, benchmark, pool_share, score_basket=score_basket, p0=p0,\\\n",
    "                hold_num=hold_num, price=price, code_returns=code_returns, comm=comm)\n",
    "miner0.prepare(fitness=fitness, population_size=population_size, evolution_ratio=evolution_ratio,\\\n",
    "                prob_dict=prob_dict, select_alg=select_alg, n_core=n_core,\\\n",
    "                max_g=max_g, tolerance_g=tolerance_g)\n",
    "for i in range(n_batch):\n",
    "    miner0.run()"
   ]
  },
  {
   "cell_type": "markdown",
   "metadata": {},
   "source": [
    "# Pool排除因子挖掘工作流，以转股溢价率为例"
   ]
  },
  {
   "cell_type": "code",
   "execution_count": null,
   "metadata": {},
   "outputs": [],
   "source": []
  },
  {
   "cell_type": "code",
   "execution_count": null,
   "metadata": {},
   "outputs": [],
   "source": []
  },
  {
   "cell_type": "code",
   "execution_count": null,
   "metadata": {},
   "outputs": [],
   "source": []
  },
  {
   "cell_type": "code",
   "execution_count": null,
   "metadata": {},
   "outputs": [],
   "source": []
  },
  {
   "cell_type": "code",
   "execution_count": null,
   "metadata": {},
   "outputs": [],
   "source": []
  },
  {
   "cell_type": "code",
   "execution_count": null,
   "metadata": {},
   "outputs": [],
   "source": []
  },
  {
   "cell_type": "code",
   "execution_count": null,
   "metadata": {},
   "outputs": [],
   "source": []
  },
  {
   "cell_type": "code",
   "execution_count": null,
   "metadata": {},
   "outputs": [],
   "source": []
  }
 ],
 "metadata": {
  "kernelspec": {
   "display_name": "base",
   "language": "python",
   "name": "python3"
  },
  "language_info": {
   "codemirror_mode": {
    "name": "ipython",
    "version": 3
   },
   "file_extension": ".py",
   "mimetype": "text/x-python",
   "name": "python",
   "nbconvert_exporter": "python",
   "pygments_lexer": "ipython3",
   "version": "3.10.9"
  }
 },
 "nbformat": 4,
 "nbformat_minor": 2
}
